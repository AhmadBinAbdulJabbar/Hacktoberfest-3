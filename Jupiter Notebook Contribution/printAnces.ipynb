{
 "cells": [
  {
   "cell_type": "code",
   "execution_count": null,
   "metadata": {},
   "outputs": [],
   "source": [
    "class Node:\n",
    "    def __init__(self, data, left=None, right=None):\n",
    "        self.data=data\n",
    "        self.left=left\n",
    "        self.right=right\n",
    "def printAncestors(root,node):\n",
    "    if root is None:\n",
    "        return False\n",
    "    if root==node:\n",
    "        return True\n",
    "    left=printAncestors(root.left,node)\n",
    "    right=False\n",
    "    if not left:\n",
    "        right=printAncestors(root.right,node)\n",
    "    if left or right:\n",
    "        print(root.data)\n",
    "    return left or right\n",
    " \n",
    "root=Node(1)\n",
    "root.left=Node(2)\n",
    "root.right=Node(3)\n",
    "root.left.right=Node(4)\n",
    "root.right.left=Node(5)\n",
    "root.right.right=Node(6)\n",
    "root.right.left.left=Node(7)\n",
    "root.right.left.right=Node(8)\n",
    "node=root.right.right\n",
    "printAncestors(root,node)"
   ]
  }
 ],
 "metadata": {
  "language_info": {
   "name": "python"
  },
  "orig_nbformat": 4
 },
 "nbformat": 4,
 "nbformat_minor": 2
}
