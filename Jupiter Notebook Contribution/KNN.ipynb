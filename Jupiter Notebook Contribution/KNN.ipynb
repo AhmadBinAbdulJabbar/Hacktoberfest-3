{
 "cells": [
  {
   "cell_type": "markdown",
   "metadata": {},
   "source": [
    "\n",
    "# Name: zeel\n",
    "# Username: zeel-codder\n",
    "# Favorite Language: JS\n",
    "#  KNN using sklearn"
   ]
  },
  {
   "cell_type": "markdown",
   "metadata": {},
   "source": [
    "## Read Data"
   ]
  },
  {
   "cell_type": "code",
   "execution_count": 10,
   "metadata": {},
   "outputs": [
    {
     "name": "stdout",
     "output_type": "stream",
     "text": [
      "     label                                            message  label_num\n",
      "0      ham  Go until jurong point, crazy.. Available only ...          1\n",
      "1      ham                      Ok lar... Joking wif u oni...          1\n",
      "2     spam  Free entry in 2 a wkly comp to win FA Cup fina...          0\n",
      "3      ham  U dun say so early hor... U c already then say...          1\n",
      "4      ham  Nah I don't think he goes to usf, he lives aro...          1\n",
      "...    ...                                                ...        ...\n",
      "5567  spam  This is the 2nd time we have tried 2 contact u...          0\n",
      "5568   ham               Will ü b going to esplanade fr home?          1\n",
      "5569   ham  Pity, * was in mood for that. So...any other s...          1\n",
      "5570   ham  The guy did some bitching but I acted like i'd...          1\n",
      "5571   ham                         Rofl. Its true to its name          1\n",
      "\n",
      "[5572 rows x 3 columns]\n"
     ]
    }
   ],
   "source": [
    "from sklearn import  metrics\n",
    "import pandas as pd\n",
    "import seaborn as sns\n",
    "\n",
    "url = \"https://raw.githubusercontent.com/justmarkham/pydata-dc-2016-tutorial/master/sms.tsv\"\n",
    "data_input = pd.read_table(url,header=None,names=['label','message'])\n",
    "data_input['label_num']=data_input.label.map({'ham':1,'spam':0})\n",
    "print(data_input)\n",
    "X=data_input.message\n",
    "y=data_input.label_num\n",
    "\n",
    "X_train=X[0:4400]\n",
    "X_test=X[4400:]\n",
    "y_train=y[0:4400]\n",
    "y_test=y[4400:]"
   ]
  },
  {
   "cell_type": "code",
   "execution_count": 11,
   "metadata": {},
   "outputs": [
    {
     "name": "stdout",
     "output_type": "stream",
     "text": [
      "3150\n"
     ]
    }
   ],
   "source": [
    "from sklearn.feature_extraction.text import CountVectorizer\n",
    "v=CountVectorizer()\n",
    "v.fit(X_train)\n",
    "print(v.vocabulary_['go'])\n",
    "X_train=v.transform(X_train)\n",
    "X_test=v.transform(X_test)"
   ]
  },
  {
   "cell_type": "markdown",
   "metadata": {},
   "source": [
    "# KNN"
   ]
  },
  {
   "cell_type": "code",
   "execution_count": 12,
   "metadata": {},
   "outputs": [
    {
     "name": "stdout",
     "output_type": "stream",
     "text": [
      "Classification report of K-Nearest Neighbors\n",
      "[[  63   86]\n",
      " [   0 1023]]\n",
      "Accuracy : 0.9266211604095563\n"
     ]
    },
    {
     "data": {
      "text/plain": [
       "<matplotlib.axes._subplots.AxesSubplot at 0x7f2ec7c055b0>"
      ]
     },
     "execution_count": 12,
     "metadata": {},
     "output_type": "execute_result"
    },
    {
     "data": {
      "image/png": "[encoded data removed]",
      "text/plain": [
       "<Figure size 432x288 with 2 Axes>"
      ]
     },
     "metadata": {
      "needs_background": "light"
     },
     "output_type": "display_data"
    }
   ],
   "source": [
    "from sklearn.neighbors import KNeighborsClassifier\n",
    "\n",
    "KNNModal = KNeighborsClassifier()\n",
    "KNNModal.fit(X_train, y_train)\n",
    "\n",
    "# Predict the output\n",
    "y_pred = KNNModal.predict(X_test)\n",
    "matrix=metrics.confusion_matrix(y_test, y_pred)\n",
    "Accuracy=metrics.accuracy_score(y_test, y_pred)\n",
    "\n",
    "print(\"Classification report of K-Nearest Neighbors\")\n",
    "print(matrix)\n",
    "print(\"Accuracy :\",Accuracy)\n",
    "sns.heatmap(matrix,annot=True)"
   ]
  },
  {
   "cell_type": "markdown",
   "metadata": {},
   "source": [
    "# Thank You"
   ]
  }
 ],
 "metadata": {
  "interpreter": {
   "hash": "916dbcbb3f70747c44a77c7bcd40155683ae19c65e1c03b4aa3499c5328201f1"
  },
  "kernelspec": {
   "display_name": "Python 3.8.10 64-bit",
   "name": "python3"
  },
  "language_info": {
   "codemirror_mode": {
    "name": "ipython",
    "version": 3
   },
   "file_extension": ".py",
   "mimetype": "text/x-python",
   "name": "python",
   "nbconvert_exporter": "python",
   "pygments_lexer": "ipython3",
   "version": "3.8.10"
  },
  "orig_nbformat": 4
 },
 "nbformat": 4,
 "nbformat_minor": 2
}
